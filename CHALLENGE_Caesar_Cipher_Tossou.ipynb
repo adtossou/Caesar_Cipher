{
 "cells": [
  {
   "cell_type": "markdown",
   "metadata": {},
   "source": [
    "## CHALLENGE: Caesar Cipher ##\n",
    "Info: https://www.hackerrank.com/challenges/caesar-cipher-1/problem\n",
    "\n",
    "# Class: Data Science and Python Bootcamp\n",
    "Instructor: Eddie Rajcevic\n",
    "Student: Armand Tossou\n",
    "Date: September 24, 2020"
   ]
  },
  {
   "cell_type": "code",
   "execution_count": null,
   "metadata": {},
   "outputs": [],
   "source": [
    "## The goal of this challenge is to find how many steps each letter in a text gets shifted into an encoded text\n",
    "# The following function takes 2 arguments:\n",
    "# 'encoded_tex' is a string variable that stores the the original text to be decoded\n",
    "# 'n' is the shift factor. The number of steps that each letter in a original text gets shifted into for encoding"
   ]
  },
  {
   "cell_type": "code",
   "execution_count": 63,
   "metadata": {},
   "outputs": [],
   "source": [
    "def CaesarCipher(encoded_tex,n):\n",
    "    ## Step 0: Create an empty list to store the final result (decoded text) in\n",
    "    decoded_tex = []\n",
    "    \n",
    "    ## Step 1: convert normal alphabet to rotated alphabet, by shifting each letter by \"n\" steps in the normal 26 alphabet-letter list\n",
    "    # store result in a list\n",
    "    normal_alphabet = \"abcdefghijklmnopqrstuvwxyz\"\n",
    "    rotated_alphabet = []\n",
    "    for i in range(len(normal_alphabet)):\n",
    "        if (i+n) <= 25: # indexes for the alphabet list are 0 to 25\n",
    "            rotated_alphabet.append(normal_alphabet[i+n])\n",
    "        else:\n",
    "            rotated_alphabet.append(normal_alphabet[(i+n)%26]) # When the index is >25, we return to the beginning of the alphabet\n",
    "        \n",
    "    ## Step 2: decode: match index in 'encoded_tex' with those in 'rotated_alphabet' lists\n",
    "    # store result in 'decoded_tex' list\n",
    "    for letter in encoded_tex:\n",
    "        if letter in normal_alphabet: # these should be normal alphabet letters\n",
    "        #    match_index = normal_alphabet.index(\"letter\")\n",
    "            decoded_tex.append(rotated_alphabet[normal_alphabet.index(letter)])\n",
    "        else: # these should be punctuations\n",
    "            decoded_tex.append(letter)\n",
    "    \n",
    "    ## Step 3: return final result\n",
    "    # decoded text is a list\n",
    "    # I use the .join() method to print the decoded text as a string so it looks nice :)\n",
    "    # end of function\n",
    "    decoded_tex = \"\".join(decoded_tex)\n",
    "    return decoded_tex"
   ]
  },
  {
   "cell_type": "code",
   "execution_count": 64,
   "metadata": {},
   "outputs": [
    {
     "name": "stdout",
     "output_type": "stream",
     "text": [
      "Shift by 1 : igkygx cgy gtj oy tuz rubghrk. noy mktkxuyoze zu jklkgzkj uvvutktzy, sgmtgtosuay znuamn oz cgy, joj tuz cot znkox gllkizout. nk cut noy yurjokxy' jkbuzout he znk boizuxoky zngz noy otzkrrkizagr ghoroze, gvvrokj zu cgxlgxk, hxuamnz znks. ekz, znuamn tuz rubghrk, igkygx cgy gtj oy gzzxgizobk, otjkkj lgyiotgzotm. noy vurozoigr ginokbksktz xkwaoxkj ghoroze, ot kllkiz gsuatzotm zu mktoay, ot ykbkxgr jollkxktz lokrjy, otirajotm gjsotoyzxgzout gtj mktkxgrynov, hkyojky znk sotux gxzy ul coxk varrotm gtj vxuvgmgtjg. ot grr znkyk, igkygx cgy g yavxksk boxzauyu.\n",
      "\n",
      "Shift by 2 : jhlzhy dhz huk pz uva svchisl. opz nlulyvzpaf av klmlhalk vwwvuluaz, thnuhuptvbz aovbno pa dhz, kpk uva dpu aolpy hmmljapvu. ol dvu opz zvskplyz' klcvapvu if aol cpjavyplz aoha opz pualssljabhs hipspaf, hwwsplk av dhymhyl, iyvbnoa aolt. fla, aovbno uva svchisl, jhlzhy dhz huk pz haayhjapcl, pukllk mhzjpuhapun. opz wvspapjhs hjoplcltlua ylxbpylk hipspaf, pu lmmlja htvbuapun av nlupbz, pu zlclyhs kpmmlylua mplskz, pujsbkpun hktpupzayhapvu huk nlulyhszopw, ilzpklz aol tpuvy hyaz vm dpyl wbsspun huk wyvwhnhukh. pu hss aolzl, jhlzhy dhz h zbwyltl cpyabvzv.\n",
      "\n",
      "Shift by 3 : kimaiz eia ivl qa vwb twdijtm. pqa omvmzwaqbg bw lmnmibml wxxwvmvba, uiovivquwca bpwcop qb eia, lql vwb eqv bpmqz innmkbqwv. pm ewv pqa awtlqmza' lmdwbqwv jg bpm dqkbwzqma bpib pqa qvbmttmkbcit ijqtqbg, ixxtqml bw eiznizm, jzwcopb bpmu. gmb, bpwcop vwb twdijtm, kimaiz eia ivl qa ibbzikbqdm, qvlmml niakqvibqvo. pqa xwtqbqkit ikpqmdmumvb zmycqzml ijqtqbg, qv mnnmkb iuwcvbqvo bw omvqca, qv amdmzit lqnnmzmvb nqmtla, qvktclqvo iluqvqabzibqwv ivl omvmzitapqx, jmaqlma bpm uqvwz izba wn eqzm xcttqvo ivl xzwxioivli. qv itt bpmam, kimaiz eia i acxzmum dqzbcwaw.\n",
      "\n",
      "Shift by 4 : ljnbja fjb jwm rb wxc uxejkun. qrb pnwnaxbrch cx mnonjcnm xyyxwnwcb, vjpwjwrvxdb cqxdpq rc fjb, mrm wxc frw cqnra joonlcrxw. qn fxw qrb bxumrnab' mnexcrxw kh cqn erlcxarnb cqjc qrb rwcnuunlcdju jkrurch, jyyurnm cx fjaojan, kaxdpqc cqnv. hnc, cqxdpq wxc uxejkun, ljnbja fjb jwm rb jccajlcren, rwmnnm ojblrwjcrwp. qrb yxurcrlju jlqrnenvnwc anzdranm jkrurch, rw noonlc jvxdwcrwp cx pnwrdb, rw bnenaju mroonanwc ornumb, rwludmrwp jmvrwrbcajcrxw jwm pnwnajubqry, knbrmnb cqn vrwxa jacb xo fran yduurwp jwm yaxyjpjwmj. rw juu cqnbn, ljnbja fjb j bdyanvn eracdxbx.\n",
      "\n",
      "Shift by 5 : mkockb gkc kxn sc xyd vyfklvo. rsc qoxobycsdi dy nopokdon yzzyxoxdc, wkqxkxswyec dryeqr sd gkc, nsn xyd gsx drosb kppomdsyx. ro gyx rsc cyvnsobc' nofydsyx li dro fsmdybsoc drkd rsc sxdovvomdekv klsvsdi, kzzvson dy gkbpkbo, lbyeqrd drow. iod, dryeqr xyd vyfklvo, mkockb gkc kxn sc kddbkmdsfo, sxnoon pkcmsxkdsxq. rsc zyvsdsmkv kmrsofowoxd boaesbon klsvsdi, sx oppomd kwyexdsxq dy qoxsec, sx cofobkv nsppoboxd psovnc, sxmvensxq knwsxscdbkdsyx kxn qoxobkvcrsz, locsnoc dro wsxyb kbdc yp gsbo zevvsxq kxn zbyzkqkxnk. sx kvv droco, mkockb gkc k cezbowo fsbdeycy.\n",
      "\n",
      "Shift by 6 : nlpdlc hld lyo td yze wzglmwp. std rpypczdtej ez opqplepo zaazypyed, xlrylytxzfd eszfrs te hld, oto yze hty esptc lqqpnetzy. sp hzy std dzwotpcd' opgzetzy mj esp gtnezctpd esle std tyepwwpneflw lmtwtej, laawtpo ez hlcqlcp, mczfrse espx. jpe, eszfrs yze wzglmwp, nlpdlc hld lyo td leeclnetgp, tyoppo qldntyletyr. std azwtetnlw lnstpgpxpye cpbftcpo lmtwtej, ty pqqpne lxzfyetyr ez rpytfd, ty dpgpclw otqqpcpye qtpwod, tynwfotyr loxtytdecletzy lyo rpypclwdsta, mpdtopd esp xtyzc lced zq htcp afwwtyr lyo aczalrlyol. ty lww espdp, nlpdlc hld l dfacpxp gtcefzdz.\n",
      "\n",
      "Shift by 7 : omqemd ime mzp ue zaf xahmnxq. tue sqzqdaeufk fa pqrqmfqp abbazqzfe, ymszmzuyage ftagst uf ime, pup zaf iuz ftqud mrrqofuaz. tq iaz tue eaxpuqde' pqhafuaz nk ftq huofaduqe ftmf tue uzfqxxqofgmx mnuxufk, mbbxuqp fa imdrmdq, ndagstf ftqy. kqf, ftagst zaf xahmnxq, omqemd ime mzp ue mffdmofuhq, uzpqqp rmeouzmfuzs. tue baxufuomx motuqhqyqzf dqcgudqp mnuxufk, uz qrrqof myagzfuzs fa sqzuge, uz eqhqdmx purrqdqzf ruqxpe, uzoxgpuzs mpyuzuefdmfuaz mzp sqzqdmxetub, nqeupqe ftq yuzad mdfe ar iudq bgxxuzs mzp bdabmsmzpm. uz mxx ftqeq, omqemd ime m egbdqyq hudfgaea.\n",
      "\n",
      "Shift by 8 : pnrfne jnf naq vf abg ybinoyr. uvf trarebfvgl gb qrsrngrq bccbaragf, zntanavzbhf gubhtu vg jnf, qvq abg jva gurve nssrpgvba. ur jba uvf fbyqvref' qribgvba ol gur ivpgbevrf gung uvf vagryyrpghny novyvgl, nccyvrq gb jnesner, oebhtug gurz. lrg, gubhtu abg ybinoyr, pnrfne jnf naq vf nggenpgvir, vaqrrq snfpvangvat. uvf cbyvgvpny npuvrirzrag erdhverq novyvgl, va rssrpg nzbhagvat gb travhf, va frireny qvssrerag svryqf, vapyhqvat nqzvavfgengvba naq trarenyfuvc, orfvqrf gur zvabe negf bs jver chyyvat naq cebcntnaqn. va nyy gurfr, pnrfne jnf n fhcerzr iveghbfb.\n",
      "\n",
      "Shift by 9 : qosgof kog obr wg bch zcjopzs. vwg usbsfcgwhm hc rstsohsr cddcbsbhg, aoubobwacig hvciuv wh kog, rwr bch kwb hvswf ottsqhwcb. vs kcb vwg gczrwsfg' rsjchwcb pm hvs jwqhcfwsg hvoh vwg wbhszzsqhioz opwzwhm, oddzwsr hc koftofs, pfciuvh hvsa. msh, hvciuv bch zcjopzs, qosgof kog obr wg ohhfoqhwjs, wbrssr togqwbohwbu. vwg dczwhwqoz oqvwsjsasbh fseiwfsr opwzwhm, wb sttsqh oacibhwbu hc usbwig, wb gsjsfoz rwttsfsbh twszrg, wbqzirwbu orawbwghfohwcb obr usbsfozgvwd, psgwrsg hvs awbcf ofhg ct kwfs dizzwbu obr dfcdouobro. wb ozz hvsgs, qosgof kog o gidfsas jwfhicgc.\n",
      "\n",
      "Shift by 10 : rpthpg lph pcs xh cdi adkpqat. wxh vtctgdhxin id stutpits deedctcih, bpvcpcxbdjh iwdjvw xi lph, sxs cdi lxc iwtxg puutrixdc. wt ldc wxh hdasxtgh' stkdixdc qn iwt kxridgxth iwpi wxh xcitaatrijpa pqxaxin, peeaxts id lpgupgt, qgdjvwi iwtb. nti, iwdjvw cdi adkpqat, rpthpg lph pcs xh piigprixkt, xcstts uphrxcpixcv. wxh edaxixrpa prwxtktbtci gtfjxgts pqxaxin, xc tuutri pbdjcixcv id vtcxjh, xc htktgpa sxuutgtci uxtash, xcrajsxcv psbxcxhigpixdc pcs vtctgpahwxe, qthxsth iwt bxcdg pgih du lxgt ejaaxcv pcs egdepvpcsp. xc paa iwtht, rpthpg lph p hjegtbt kxgijdhd.\n",
      "\n",
      "Shift by 11 : squiqh mqi qdt yi dej belqrbu. xyi wuduheiyjo je tuvuqjut effedudji, cqwdqdyceki jxekwx yj mqi, tyt dej myd jxuyh qvvusjyed. xu med xyi iebtyuhi' tulejyed ro jxu lysjehyui jxqj xyi ydjubbusjkqb qrybyjo, qffbyut je mqhvqhu, rhekwxj jxuc. ouj, jxekwx dej belqrbu, squiqh mqi qdt yi qjjhqsjylu, ydtuut vqisydqjydw. xyi febyjysqb qsxyulucudj hugkyhut qrybyjo, yd uvvusj qcekdjydw je wudyki, yd iuluhqb tyvvuhudj vyubti, ydsbktydw qtcydyijhqjyed qdt wuduhqbixyf, ruiytui jxu cydeh qhji ev myhu fkbbydw qdt fhefqwqdtq. yd qbb jxuiu, squiqh mqi q ikfhucu lyhjkeie.\n",
      "\n",
      "Shift by 12 : trvjri nrj reu zj efk cfmrscv. yzj xvevifjzkp kf uvwvrkvu fggfevekj, drxerezdflj kyflxy zk nrj, uzu efk nze kyvzi rwwvtkzfe. yv nfe yzj jfcuzvij' uvmfkzfe sp kyv mztkfizvj kyrk yzj zekvccvtklrc rszczkp, rggczvu kf nriwriv, siflxyk kyvd. pvk, kyflxy efk cfmrscv, trvjri nrj reu zj rkkirtkzmv, zeuvvu wrjtzerkzex. yzj gfczkztrc rtyzvmvdvek ivhlzivu rszczkp, ze vwwvtk rdflekzex kf xvezlj, ze jvmvirc uzwwvivek wzvcuj, zetcluzex rudzezjkirkzfe reu xvevircjyzg, svjzuvj kyv dzefi rikj fw nziv glcczex reu gifgrxreur. ze rcc kyvjv, trvjri nrj r jlgivdv mziklfjf.\n",
      "\n",
      "Shift by 13 : uswksj osk sfv ak fgl dgnstdw. zak ywfwjgkalq lg vwxwslwv ghhgfwflk, esyfsfaegmk lzgmyz al osk, vav fgl oaf lzwaj sxxwulagf. zw ogf zak kgdvawjk' vwnglagf tq lzw naulgjawk lzsl zak aflwddwulmsd stadalq, shhdawv lg osjxsjw, tjgmyzl lzwe. qwl, lzgmyz fgl dgnstdw, uswksj osk sfv ak slljsulanw, afvwwv xskuafslafy. zak hgdalausd suzawnwewfl jwimajwv stadalq, af wxxwul segmflafy lg ywfamk, af kwnwjsd vaxxwjwfl xawdvk, afudmvafy sveafakljslagf sfv ywfwjsdkzah, twkavwk lzw eafgj sjlk gx oajw hmddafy sfv hjghsysfvs. af sdd lzwkw, uswksj osk s kmhjwew najlmgkg.\n",
      "\n",
      "Shift by 14 : vtxltk ptl tgw bl ghm ehotuex. abl zxgxkhlbmr mh wxyxtmxw hiihgxgml, ftzgtgbfhnl mahnza bm ptl, wbw ghm pbg maxbk tyyxvmbhg. ax phg abl lhewbxkl' wxohmbhg ur max obvmhkbxl matm abl bgmxeexvmnte tubebmr, tiiebxw mh ptkytkx, ukhnzam maxf. rxm, mahnza ghm ehotuex, vtxltk ptl tgw bl tmmktvmbox, bgwxxw ytlvbgtmbgz. abl ihebmbvte tvabxoxfxgm kxjnbkxw tubebmr, bg xyyxvm tfhngmbgz mh zxgbnl, bg lxoxkte wbyyxkxgm ybxewl, bgvenwbgz twfbgblmktmbhg tgw zxgxktelabi, uxlbwxl max fbghk tkml hy pbkx ineebgz tgw ikhitztgwt. bg tee maxlx, vtxltk ptl t lnikxfx obkmnhlh.\n",
      "\n",
      "Shift by 15 : wuymul qum uhx cm hin fipuvfy. bcm ayhylimcns ni xyzyunyx ijjihyhnm, guahuhcgiom nbioab cn qum, xcx hin qch nbycl uzzywncih. by qih bcm mifxcylm' xypincih vs nby pcwnilcym nbun bcm chnyffywnouf uvcfcns, ujjfcyx ni qulzuly, vlioabn nbyg. syn, nbioab hin fipuvfy, wuymul qum uhx cm unnluwncpy, chxyyx zumwchuncha. bcm jifcncwuf uwbcypygyhn lykoclyx uvcfcns, ch yzzywn ugiohncha ni ayhcom, ch mypyluf xczzylyhn zcyfxm, chwfoxcha uxgchcmnluncih uhx ayhylufmbcj, vymcxym nby gchil ulnm iz qcly joffcha uhx jlijuauhxu. ch uff nbymy, wuymul qum u mojlygy pclnoimi.\n",
      "\n",
      "Shift by 16 : xvznvm rvn viy dn ijo gjqvwgz. cdn bzizmjndot oj yzazvozy jkkjizion, hvbividhjpn ocjpbc do rvn, ydy ijo rdi oczdm vaazxodji. cz rji cdn njgydzmn' yzqjodji wt ocz qdxojmdzn ocvo cdn diozggzxopvg vwdgdot, vkkgdzy oj rvmavmz, wmjpbco oczh. tzo, ocjpbc ijo gjqvwgz, xvznvm rvn viy dn voomvxodqz, diyzzy avnxdivodib. cdn kjgdodxvg vxcdzqzhzio mzlpdmzy vwdgdot, di zaazxo vhjpiodib oj bzidpn, di nzqzmvg ydaazmzio adzgyn, dixgpydib vyhdidnomvodji viy bzizmvgncdk, wzndyzn ocz hdijm vmon ja rdmz kpggdib viy kmjkvbviyv. di vgg ocznz, xvznvm rvn v npkmzhz qdmopjnj.\n",
      "\n",
      "Shift by 17 : ywaown swo wjz eo jkp hkrwxha. deo cajankoepu pk zabawpaz kllkjajpo, iwcjwjeikqo pdkqcd ep swo, zez jkp sej pdaen wbbaypekj. da skj deo okhzeano' zarkpekj xu pda reypkneao pdwp deo ejpahhaypqwh wxehepu, wllheaz pk swnbwna, xnkqcdp pdai. uap, pdkqcd jkp hkrwxha, ywaown swo wjz eo wppnwypera, ejzaaz bwoyejwpejc. deo lkhepeywh wydearaiajp namqenaz wxehepu, ej abbayp wikqjpejc pk cajeqo, ej oaranwh zebbanajp beahzo, ejyhqzejc wziejeopnwpekj wjz cajanwhodel, xaoezao pda iejkn wnpo kb sena lqhhejc wjz lnklwcwjzw. ej whh pdaoa, ywaown swo w oqlnaia renpqkok.\n",
      "\n",
      "Shift by 18 : zxbpxo txp xka fp klq ilsxyib. efp dbkbolpfqv ql abcbxqba lmmlkbkqp, jxdkxkfjlrp qelrde fq txp, afa klq tfk qebfo xccbzqflk. eb tlk efp pliafbop' abslqflk yv qeb sfzqlofbp qexq efp fkqbiibzqrxi xyfifqv, xmmifba ql txocxob, yolrdeq qebj. vbq, qelrde klq ilsxyib, zxbpxo txp xka fp xqqoxzqfsb, fkabba cxpzfkxqfkd. efp mlifqfzxi xzefbsbjbkq obnrfoba xyfifqv, fk bccbzq xjlrkqfkd ql dbkfrp, fk pbsboxi afccbobkq cfbiap, fkzirafkd xajfkfpqoxqflk xka dbkboxipefm, ybpfabp qeb jfklo xoqp lc tfob mriifkd xka molmxdxkax. fk xii qebpb, zxbpxo txp x prmobjb sfoqrlpl.\n",
      "\n",
      "Shift by 19 : aycqyp uyq ylb gq lmr jmtyzjc. fgq eclcpmqgrw rm bcdcyrcb mnnmlclrq, kyelylgkmsq rfmsef gr uyq, bgb lmr ugl rfcgp yddcargml. fc uml fgq qmjbgcpq' bctmrgml zw rfc tgarmpgcq rfyr fgq glrcjjcarsyj yzgjgrw, ynnjgcb rm uypdypc, zpmsefr rfck. wcr, rfmsef lmr jmtyzjc, aycqyp uyq ylb gq yrrpyargtc, glbccb dyqaglyrgle. fgq nmjgrgayj yafgctckclr pcosgpcb yzgjgrw, gl cddcar ykmslrgle rm eclgsq, gl qctcpyj bgddcpclr dgcjbq, glajsbgle ybkglgqrpyrgml ylb eclcpyjqfgn, zcqgbcq rfc kglmp yprq md ugpc nsjjgle ylb npmnyeylby. gl yjj rfcqc, aycqyp uyq y qsnpckc tgprsmqm.\n",
      "\n",
      "Shift by 20 : bzdrzq vzr zmc hr mns knuzakd. ghr fdmdqnrhsx sn cdedzsdc noonmdmsr, lzfmzmhlntr sgntfg hs vzr, chc mns vhm sgdhq zeedbshnm. gd vnm ghr rnkchdqr' cdunshnm ax sgd uhbsnqhdr sgzs ghr hmsdkkdbstzk zahkhsx, zookhdc sn vzqezqd, aqntfgs sgdl. xds, sgntfg mns knuzakd, bzdrzq vzr zmc hr zssqzbshud, hmcddc ezrbhmzshmf. ghr onkhshbzk zbghdudldms qdpthqdc zahkhsx, hm deedbs zlntmshmf sn fdmhtr, hm rdudqzk cheedqdms ehdkcr, hmbktchmf zclhmhrsqzshnm zmc fdmdqzkrgho, adrhcdr sgd lhmnq zqsr ne vhqd otkkhmf zmc oqnozfzmcz. hm zkk sgdrd, bzdrzq vzr z rtoqdld uhqstnrn.\n",
      "\n",
      "Shift by 21 : caesar was and is not lovable. his generosity to defeated opponents, magnanimous though it was, did not win their affection. he won his soldiers' devotion by the victories that his intellectual ability, applied to warfare, brought them. yet, though not lovable, caesar was and is attractive, indeed fascinating. his political achievement required ability, in effect amounting to genius, in several different fields, including administration and generalship, besides the minor arts of wire pulling and propaganda. in all these, caesar was a supreme virtuoso.\n",
      "\n",
      "Shift by 22 : dbftbs xbt boe jt opu mpwbcmf. ijt hfofsptjuz up efgfbufe pqqpofout, nbhobojnpvt uipvhi ju xbt, eje opu xjo uifjs bggfdujpo. if xpo ijt tpmejfst' efwpujpo cz uif wjdupsjft uibu ijt joufmmfduvbm bcjmjuz, bqqmjfe up xbsgbsf, cspvhiu uifn. zfu, uipvhi opu mpwbcmf, dbftbs xbt boe jt buusbdujwf, joeffe gbtdjobujoh. ijt qpmjujdbm bdijfwfnfou sfrvjsfe bcjmjuz, jo fggfdu bnpvoujoh up hfojvt, jo tfwfsbm ejggfsfou gjfmet, jodmvejoh benjojtusbujpo boe hfofsbmtijq, cftjeft uif njops bsut pg xjsf qvmmjoh boe qspqbhboeb. jo bmm uiftf, dbftbs xbt b tvqsfnf wjsuvptp.\n",
      "\n",
      "Shift by 23 : ecguct ycu cpf ku pqv nqxcdng. jku igpgtqukva vq fghgcvgf qrrqpgpvu, ocipcpkoqwu vjqwij kv ycu, fkf pqv ykp vjgkt chhgevkqp. jg yqp jku uqnfkgtu' fgxqvkqp da vjg xkevqtkgu vjcv jku kpvgnngevwcn cdknkva, crrnkgf vq ycthctg, dtqwijv vjgo. agv, vjqwij pqv nqxcdng, ecguct ycu cpf ku cvvtcevkxg, kpfggf hcuekpcvkpi. jku rqnkvkecn cejkgxgogpv tgswktgf cdknkva, kp ghhgev coqwpvkpi vq igpkwu, kp ugxgtcn fkhhgtgpv hkgnfu, kpenwfkpi cfokpkuvtcvkqp cpf igpgtcnujkr, dgukfgu vjg okpqt ctvu qh yktg rwnnkpi cpf rtqrcicpfc. kp cnn vjgug, ecguct ycu c uwrtgog xktvwquq.\n",
      "\n",
      "Shift by 24 : fdhvdu zdv dqg lv qrw orydeoh. klv jhqhurvlwb wr ghihdwhg rssrqhqwv, pdjqdqlprxv wkrxjk lw zdv, glg qrw zlq wkhlu diihfwlrq. kh zrq klv vroglhuv' ghyrwlrq eb wkh ylfwrulhv wkdw klv lqwhoohfwxdo delolwb, dssolhg wr zduiduh, eurxjkw wkhp. bhw, wkrxjk qrw orydeoh, fdhvdu zdv dqg lv dwwudfwlyh, lqghhg idvflqdwlqj. klv srolwlfdo dfklhyhphqw uhtxluhg delolwb, lq hiihfw dprxqwlqj wr jhqlxv, lq vhyhudo gliihuhqw ilhogv, lqfoxglqj dgplqlvwudwlrq dqg jhqhudovkls, ehvlghv wkh plqru duwv ri zluh sxoolqj dqg sursdjdqgd. lq doo wkhvh, fdhvdu zdv d vxsuhph yluwxrvr.\n",
      "\n",
      "Shift by 25 : geiwev aew erh mw rsx pszefpi. lmw kirivswmxc xs hijiexih sttsrirxw, qekrermqsyw xlsykl mx aew, hmh rsx amr xlimv ejjigxmsr. li asr lmw wsphmivw' hizsxmsr fc xli zmgxsvmiw xlex lmw mrxippigxyep efmpmxc, ettpmih xs aevjevi, fvsyklx xliq. cix, xlsykl rsx pszefpi, geiwev aew erh mw exxvegxmzi, mrhiih jewgmrexmrk. lmw tspmxmgep eglmiziqirx viuymvih efmpmxc, mr ijjigx eqsyrxmrk xs kirmyw, mr wizivep hmjjivirx jmiphw, mrgpyhmrk ehqmrmwxvexmsr erh kirivepwlmt, fiwmhiw xli qmrsv evxw sj amvi typpmrk erh tvstekerhe. mr epp xliwi, geiwev aew e wytviqi zmvxysws.\n",
      "\n"
     ]
    }
   ],
   "source": [
    "## Step 4: test the function\n",
    "# I just take the encoded text and made sure it's all on the same line. So it's stored as a string variable\n",
    "encoded_tex = \"hfjxfw bfx fsi nx sty qtafgqj. mnx ljsjwtxnyd yt ijkjfyji tuutsjsyx, rflsfsnrtzx ymtzlm ny bfx, ini sty bns ymjnw fkkjhynts. mj bts mnx xtqinjwx' ijatynts gd ymj anhytwnjx ymfy mnx nsyjqqjhyzfq fgnqnyd, fuuqnji yt bfwkfwj, gwtzlmy ymjr. djy, ymtzlm sty qtafgqj, hfjxfw bfx fsi nx fyywfhynaj, nsijji kfxhnsfynsl. mnx utqnynhfq fhmnjajrjsy wjvznwji fgnqnyd, ns jkkjhy frtzsynsl yt ljsnzx, ns xjajwfq inkkjwjsy knjqix, nshqzinsl firnsnxywfynts fsi ljsjwfqxmnu, gjxnijx ymj rnstw fwyx tk bnwj uzqqnsl fsi uwtuflfsif. ns fqq ymjxj, hfjxfw bfx f xzuwjrj anwyztxt.\"\n",
    "for n in range(1,26):\n",
    "    #print(\"Shift by\",n,\":\",\"\".join(CaesarCipher(encoded_tex,n)))\n",
    "    print(\"Shift by\",n,\":\",CaesarCipher(encoded_tex,n))\n",
    "    print(\"\") # empty space after each result is printed"
   ]
  },
  {
   "cell_type": "markdown",
   "metadata": {},
   "source": [
    "## SOLUTION: The original text was shifted by 21 characters :)\n",
    "\n",
    "caesar was and is not lovable. his generosity to defeated opponents, magnanimous though it was, did not win their affection. he won his soldiers' devotion by the victories that his intellectual ability, applied to warfare, brought them. yet, though not lovable, caesar was and is attractive, indeed fascinating. his political achievement required ability, in effect amounting to genius, in several different fields, including administration and generalship, besides the minor arts of wire pulling and propaganda. in all these, caesar was a supreme virtuoso."
   ]
  }
 ],
 "metadata": {
  "kernelspec": {
   "display_name": "Python 3",
   "language": "python",
   "name": "python3"
  },
  "language_info": {
   "codemirror_mode": {
    "name": "ipython",
    "version": 3
   },
   "file_extension": ".py",
   "mimetype": "text/x-python",
   "name": "python",
   "nbconvert_exporter": "python",
   "pygments_lexer": "ipython3",
   "version": "3.7.4"
  }
 },
 "nbformat": 4,
 "nbformat_minor": 2
}
